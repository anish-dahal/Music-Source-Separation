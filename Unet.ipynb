{
 "cells": [
  {
   "cell_type": "code",
   "execution_count": 2,
   "metadata": {},
   "outputs": [],
   "source": [
    "import torch\n",
    "import torch.nn as nn\n",
    "import torch.nn.functional as F\n",
    "from torchsummary import summary"
   ]
  },
  {
   "attachments": {},
   "cell_type": "markdown",
   "metadata": {},
   "source": [
    "Encoding\n"
   ]
  },
  {
   "cell_type": "code",
   "execution_count": 3,
   "metadata": {},
   "outputs": [],
   "source": [
    "class encoder(nn.Module):\n",
    "    def __init__(self, in_channel, out_channel):\n",
    "        super().__init__()\n",
    "        self.conv = nn.Conv2d(in_channel, out_channel, kernel_size = (5, 5), stride = 2, padding = 1)\n",
    "        self.batchnorm = nn.BatchNorm2d(out_channel)\n",
    "        self.l_relu = nn.LeakyReLU(0.2)\n",
    "    \n",
    "    def forward(self, x):\n",
    "        x = self.conv(x)\n",
    "        x = self.batchnorm(x)\n",
    "        x = self.l_relu(x)\n",
    "        return x"
   ]
  },
  {
   "attachments": {},
   "cell_type": "markdown",
   "metadata": {},
   "source": [
    "Decoding"
   ]
  },
  {
   "cell_type": "code",
   "execution_count": 4,
   "metadata": {},
   "outputs": [],
   "source": [
    "class decoder(nn.Module):\n",
    "    def __init__(self, in_channel, out_channel):\n",
    "        super().__init__()\n",
    "        self.dconv = nn.ConvTranspose2d(in_channel, out_channel, kernel_size = (5, 5), stride = 2, padding = 1)\n",
    "        self.batchnorm = nn.BatchNorm2d(out_channel)\n",
    "        \n",
    "    \n",
    "    def forward(self, x):\n",
    "        x = self.dconv(x)\n",
    "        x = self.batchnorm(x)\n",
    "        return x"
   ]
  },
  {
   "attachments": {},
   "cell_type": "markdown",
   "metadata": {},
   "source": [
    "Unet"
   ]
  },
  {
   "cell_type": "code",
   "execution_count": 5,
   "metadata": {},
   "outputs": [],
   "source": [
    "class UNet(nn.Module):\n",
    "    def __init__(self):\n",
    "        super().__init__()\n",
    "        self.encoder1 = encoder(1, 16)\n",
    "        self.encoder2 = encoder(16, 32)\n",
    "        self.encoder3 = encoder(32, 64)\n",
    "        self.encoder4 = encoder(64, 128)\n",
    "        self.encoder5 = encoder(128, 256)\n",
    "        self.encoder6 = encoder(256, 512)\n",
    "\n",
    "        self.decoder1 = decoder(512, 256)\n",
    "        self.dropout1 = nn.Dropout(0.5)\n",
    "        self.relu1 = nn.ReLU()\n",
    "        self.decoder2 = decoder(256*2, 128)\n",
    "        self.dropout2 = nn.Dropout(0.5)\n",
    "        self.relu2 = nn.ReLU()\n",
    "\n",
    "        self.decoder3 = decoder(128*2, 64)\n",
    "        self.dropout3 = nn.Dropout(0.5)\n",
    "        self.relu3 = nn.ReLU()\n",
    "\n",
    "        self.decoder4 = decoder(64*2, 32)\n",
    "        self.relu4 = nn.ReLU()\n",
    "\n",
    "        self.decoder5 = decoder(32*2, 16)\n",
    "        self.relu5 = nn.ReLU()\n",
    "\n",
    "        self.decoder6 = decoder(16*2, 1)\n",
    "        self.sigmoid = nn.Sigmoid()\n",
    "    \n",
    "    def forward(self, x):\n",
    "        conv1 = self.encoder1(x)\n",
    "        conv2 = self.encoder2(conv1)\n",
    "        conv3 = self.encoder3(conv2)\n",
    "        conv4 = self.encoder4(conv3)\n",
    "        conv5 = self.encoder5(conv4)\n",
    "        conv6 = self.encoder6(conv5)\n",
    "\n",
    "        dconv1 = self.decoder1(conv6)\n",
    "        dconv1 = self.dropout1(dconv1)\n",
    "        dconv1 = self.relu1(dconv1)\n",
    "        dconv1 = torch.concat([dconv1, conv5], dim = 1)\n",
    "\n",
    "        dconv2 = self.decoder2(dconv1)\n",
    "        dconv2 = self.dropout3(dconv2)\n",
    "        dconv2 = self.relu2(dconv2)\n",
    "        dconv2 = torch.concat([dconv2, conv4], dim = 1)\n",
    "\n",
    "        dconv3 = self.decoder3(dconv2)\n",
    "        dconv3 = self.dropout3(dconv3)\n",
    "        dconv3 = self.relu3(dconv3)\n",
    "        dconv3 = torch.concat([dconv3, conv3], dim = 1)\n",
    "\n",
    "        dconv4 = self.decoder4(dconv3)\n",
    "        dconv4 = self.relu4(dconv4)\n",
    "        dconv4 = torch.concat([dconv4, conv2], dim = 1)\n",
    "\n",
    "        dconv5 = self.decoder5(dconv4)\n",
    "        dconv5 = self.relu5(dconv5)\n",
    "\n",
    "        dconv5 = torch.concat([dconv5, conv1], dim = 1)\n",
    "\n",
    "        output = self.decoder6(dconv5)\n",
    "        output = self.sigmoid(output)\n",
    "        return torch.mul(output, x)\n",
    "        \n"
   ]
  },
  {
   "cell_type": "code",
   "execution_count": 6,
   "metadata": {},
   "outputs": [],
   "source": [
    "device = torch.device(\"cuda\" if torch.cuda.is_available() else \"cpu\")"
   ]
  },
  {
   "cell_type": "code",
   "execution_count": 7,
   "metadata": {},
   "outputs": [],
   "source": [
    "model = UNet().to(device)"
   ]
  },
  {
   "cell_type": "code",
   "execution_count": 9,
   "metadata": {},
   "outputs": [
    {
     "name": "stdout",
     "output_type": "stream",
     "text": [
      "----------------------------------------------------------------\n",
      "        Layer (type)               Output Shape         Param #\n",
      "================================================================\n",
      "            Conv2d-1          [-1, 16, 255, 63]             416\n",
      "       BatchNorm2d-2          [-1, 16, 255, 63]              32\n",
      "         LeakyReLU-3          [-1, 16, 255, 63]               0\n",
      "           encoder-4          [-1, 16, 255, 63]               0\n",
      "            Conv2d-5          [-1, 32, 127, 31]          12,832\n",
      "       BatchNorm2d-6          [-1, 32, 127, 31]              64\n",
      "         LeakyReLU-7          [-1, 32, 127, 31]               0\n",
      "           encoder-8          [-1, 32, 127, 31]               0\n",
      "            Conv2d-9           [-1, 64, 63, 15]          51,264\n",
      "      BatchNorm2d-10           [-1, 64, 63, 15]             128\n",
      "        LeakyReLU-11           [-1, 64, 63, 15]               0\n",
      "          encoder-12           [-1, 64, 63, 15]               0\n",
      "           Conv2d-13           [-1, 128, 31, 7]         204,928\n",
      "      BatchNorm2d-14           [-1, 128, 31, 7]             256\n",
      "        LeakyReLU-15           [-1, 128, 31, 7]               0\n",
      "          encoder-16           [-1, 128, 31, 7]               0\n",
      "           Conv2d-17           [-1, 256, 15, 3]         819,456\n",
      "      BatchNorm2d-18           [-1, 256, 15, 3]             512\n",
      "        LeakyReLU-19           [-1, 256, 15, 3]               0\n",
      "          encoder-20           [-1, 256, 15, 3]               0\n",
      "           Conv2d-21            [-1, 512, 7, 1]       3,277,312\n",
      "      BatchNorm2d-22            [-1, 512, 7, 1]           1,024\n",
      "        LeakyReLU-23            [-1, 512, 7, 1]               0\n",
      "          encoder-24            [-1, 512, 7, 1]               0\n",
      "  ConvTranspose2d-25           [-1, 256, 15, 3]       3,277,056\n",
      "      BatchNorm2d-26           [-1, 256, 15, 3]             512\n",
      "          decoder-27           [-1, 256, 15, 3]               0\n",
      "          Dropout-28           [-1, 256, 15, 3]               0\n",
      "             ReLU-29           [-1, 256, 15, 3]               0\n",
      "  ConvTranspose2d-30           [-1, 128, 31, 7]       1,638,528\n",
      "      BatchNorm2d-31           [-1, 128, 31, 7]             256\n",
      "          decoder-32           [-1, 128, 31, 7]               0\n",
      "          Dropout-33           [-1, 128, 31, 7]               0\n",
      "             ReLU-34           [-1, 128, 31, 7]               0\n",
      "  ConvTranspose2d-35           [-1, 64, 63, 15]         409,664\n",
      "      BatchNorm2d-36           [-1, 64, 63, 15]             128\n",
      "          decoder-37           [-1, 64, 63, 15]               0\n",
      "          Dropout-38           [-1, 64, 63, 15]               0\n",
      "             ReLU-39           [-1, 64, 63, 15]               0\n",
      "  ConvTranspose2d-40          [-1, 32, 127, 31]         102,432\n",
      "      BatchNorm2d-41          [-1, 32, 127, 31]              64\n",
      "          decoder-42          [-1, 32, 127, 31]               0\n",
      "             ReLU-43          [-1, 32, 127, 31]               0\n",
      "  ConvTranspose2d-44          [-1, 16, 255, 63]          25,616\n",
      "      BatchNorm2d-45          [-1, 16, 255, 63]              32\n",
      "          decoder-46          [-1, 16, 255, 63]               0\n",
      "             ReLU-47          [-1, 16, 255, 63]               0\n",
      "  ConvTranspose2d-48          [-1, 1, 511, 127]             801\n",
      "      BatchNorm2d-49          [-1, 1, 511, 127]               2\n",
      "          decoder-50          [-1, 1, 511, 127]               0\n",
      "          Sigmoid-51          [-1, 1, 511, 127]               0\n",
      "================================================================\n",
      "Total params: 9,823,315\n",
      "Trainable params: 9,823,315\n",
      "Non-trainable params: 0\n",
      "----------------------------------------------------------------\n",
      "Input size (MB): 0.25\n",
      "Forward/backward pass size (MB): 32.32\n",
      "Params size (MB): 37.47\n",
      "Estimated Total Size (MB): 70.04\n",
      "----------------------------------------------------------------\n"
     ]
    }
   ],
   "source": [
    "summary(model, input_size = (1, 511, 127), batch_size = -1)"
   ]
  },
  {
   "cell_type": "code",
   "execution_count": null,
   "metadata": {},
   "outputs": [],
   "source": []
  }
 ],
 "metadata": {
  "kernelspec": {
   "display_name": "myvenv",
   "language": "python",
   "name": "python3"
  },
  "language_info": {
   "codemirror_mode": {
    "name": "ipython",
    "version": 3
   },
   "file_extension": ".py",
   "mimetype": "text/x-python",
   "name": "python",
   "nbconvert_exporter": "python",
   "pygments_lexer": "ipython3",
   "version": "3.9.13"
  },
  "orig_nbformat": 4
 },
 "nbformat": 4,
 "nbformat_minor": 2
}
