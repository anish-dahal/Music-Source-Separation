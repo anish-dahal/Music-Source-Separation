{
 "cells": [
  {
   "cell_type": "code",
   "execution_count": 1,
   "metadata": {},
   "outputs": [],
   "source": [
    "import torch\n",
    "import torch.nn as nn\n",
    "import torch.nn.functional as F\n",
    "from torchsummary import summary\n",
    "\n",
    "from CustomDataset.Data import (\n",
    "    DSD100,\n",
    "    data_split,\n",
    "    dataloader\n",
    ")\n",
    "from model.Network import UNet"
   ]
  },
  {
   "cell_type": "code",
   "execution_count": 2,
   "metadata": {},
   "outputs": [
    {
     "data": {
      "text/plain": [
       "<torch._C.Generator at 0x21392b46c50>"
      ]
     },
     "execution_count": 2,
     "metadata": {},
     "output_type": "execute_result"
    }
   ],
   "source": [
    "torch.manual_seed(100)"
   ]
  },
  {
   "cell_type": "code",
   "execution_count": 3,
   "metadata": {},
   "outputs": [],
   "source": [
    "device = torch.device(\"cuda\" if torch.cuda.is_available() else \"cpu\")"
   ]
  },
  {
   "cell_type": "code",
   "execution_count": 4,
   "metadata": {},
   "outputs": [],
   "source": [
    "dataset = DSD100('../DSD100spectrogram')"
   ]
  },
  {
   "cell_type": "code",
   "execution_count": 5,
   "metadata": {},
   "outputs": [
    {
     "name": "stdout",
     "output_type": "stream",
     "text": [
      "torch.Size([1, 511, 127])\n",
      "torch.Size([1, 511, 127])\n",
      "torch.Size([1, 511, 127])\n",
      "torch.Size([1, 511, 127])\n",
      "torch.Size([1, 511, 127])\n"
     ]
    }
   ],
   "source": [
    "for mixture, bass, drum, vocal, instrumental in dataset:\n",
    "    print(mixture.shape)\n",
    "    print(bass.shape)\n",
    "    print(drum.shape)\n",
    "    print(vocal.shape)\n",
    "    print(instrumental.shape)\n",
    "    break"
   ]
  },
  {
   "cell_type": "code",
   "execution_count": 6,
   "metadata": {},
   "outputs": [
    {
     "data": {
      "text/plain": [
       "10284"
      ]
     },
     "execution_count": 6,
     "metadata": {},
     "output_type": "execute_result"
    }
   ],
   "source": [
    "len(dataset)"
   ]
  },
  {
   "cell_type": "code",
   "execution_count": 7,
   "metadata": {},
   "outputs": [],
   "source": [
    "train_dataset, val_dataset = data_split(dataset, 0.7)"
   ]
  },
  {
   "cell_type": "code",
   "execution_count": 8,
   "metadata": {},
   "outputs": [
    {
     "data": {
      "text/plain": [
       "7199"
      ]
     },
     "execution_count": 8,
     "metadata": {},
     "output_type": "execute_result"
    }
   ],
   "source": [
    "len(train_dataset)"
   ]
  },
  {
   "cell_type": "code",
   "execution_count": 9,
   "metadata": {},
   "outputs": [
    {
     "data": {
      "text/plain": [
       "3085"
      ]
     },
     "execution_count": 9,
     "metadata": {},
     "output_type": "execute_result"
    }
   ],
   "source": [
    "len(val_dataset)"
   ]
  },
  {
   "cell_type": "code",
   "execution_count": 10,
   "metadata": {},
   "outputs": [],
   "source": [
    "train_dataloader = dataloader(train_dataset, 128, shuffle = True)\n",
    "val_dataloader = dataloader(val_dataset, 128, shuffle = False)"
   ]
  },
  {
   "cell_type": "code",
   "execution_count": 11,
   "metadata": {},
   "outputs": [
    {
     "name": "stdout",
     "output_type": "stream",
     "text": [
      "torch.Size([128, 1, 511, 127])\n",
      "torch.Size([128, 1, 511, 127])\n",
      "torch.Size([128, 1, 511, 127])\n",
      "torch.Size([128, 1, 511, 127])\n",
      "torch.Size([128, 1, 511, 127])\n"
     ]
    }
   ],
   "source": [
    "for mixture, bass, drum, vocal, instrumental in train_dataloader:\n",
    "    print(mixture.shape)\n",
    "    print(bass.shape)\n",
    "    print(drum.shape)\n",
    "    print(vocal.shape)\n",
    "    print(instrumental.shape)\n",
    "    break"
   ]
  },
  {
   "cell_type": "markdown",
   "metadata": {},
   "source": [
    "UNet model"
   ]
  },
  {
   "cell_type": "code",
   "execution_count": 12,
   "metadata": {},
   "outputs": [],
   "source": [
    "model = UNet().to(device)"
   ]
  },
  {
   "cell_type": "code",
   "execution_count": 13,
   "metadata": {},
   "outputs": [
    {
     "name": "stdout",
     "output_type": "stream",
     "text": [
      "----------------------------------------------------------------\n",
      "        Layer (type)               Output Shape         Param #\n",
      "================================================================\n",
      "            Conv2d-1         [128, 16, 255, 63]             416\n",
      "       BatchNorm2d-2         [128, 16, 255, 63]              32\n",
      "         LeakyReLU-3         [128, 16, 255, 63]               0\n",
      "           encoder-4         [128, 16, 255, 63]               0\n",
      "            Conv2d-5         [128, 32, 127, 31]          12,832\n",
      "       BatchNorm2d-6         [128, 32, 127, 31]              64\n",
      "         LeakyReLU-7         [128, 32, 127, 31]               0\n",
      "           encoder-8         [128, 32, 127, 31]               0\n",
      "            Conv2d-9          [128, 64, 63, 15]          51,264\n",
      "      BatchNorm2d-10          [128, 64, 63, 15]             128\n",
      "        LeakyReLU-11          [128, 64, 63, 15]               0\n",
      "          encoder-12          [128, 64, 63, 15]               0\n",
      "           Conv2d-13          [128, 128, 31, 7]         204,928\n",
      "      BatchNorm2d-14          [128, 128, 31, 7]             256\n",
      "        LeakyReLU-15          [128, 128, 31, 7]               0\n",
      "          encoder-16          [128, 128, 31, 7]               0\n",
      "           Conv2d-17          [128, 256, 15, 3]         819,456\n",
      "      BatchNorm2d-18          [128, 256, 15, 3]             512\n",
      "        LeakyReLU-19          [128, 256, 15, 3]               0\n",
      "          encoder-20          [128, 256, 15, 3]               0\n",
      "           Conv2d-21           [128, 512, 7, 1]       3,277,312\n",
      "      BatchNorm2d-22           [128, 512, 7, 1]           1,024\n",
      "        LeakyReLU-23           [128, 512, 7, 1]               0\n",
      "          encoder-24           [128, 512, 7, 1]               0\n",
      "  ConvTranspose2d-25          [128, 256, 15, 3]       3,277,056\n",
      "      BatchNorm2d-26          [128, 256, 15, 3]             512\n",
      "          decoder-27          [128, 256, 15, 3]               0\n",
      "          Dropout-28          [128, 256, 15, 3]               0\n",
      "             ReLU-29          [128, 256, 15, 3]               0\n",
      "  ConvTranspose2d-30          [128, 128, 31, 7]       1,638,528\n",
      "      BatchNorm2d-31          [128, 128, 31, 7]             256\n",
      "          decoder-32          [128, 128, 31, 7]               0\n",
      "          Dropout-33          [128, 128, 31, 7]               0\n",
      "             ReLU-34          [128, 128, 31, 7]               0\n",
      "  ConvTranspose2d-35          [128, 64, 63, 15]         409,664\n",
      "      BatchNorm2d-36          [128, 64, 63, 15]             128\n",
      "          decoder-37          [128, 64, 63, 15]               0\n",
      "          Dropout-38          [128, 64, 63, 15]               0\n",
      "             ReLU-39          [128, 64, 63, 15]               0\n",
      "  ConvTranspose2d-40         [128, 32, 127, 31]         102,432\n",
      "      BatchNorm2d-41         [128, 32, 127, 31]              64\n",
      "          decoder-42         [128, 32, 127, 31]               0\n",
      "             ReLU-43         [128, 32, 127, 31]               0\n",
      "  ConvTranspose2d-44         [128, 16, 255, 63]          25,616\n",
      "      BatchNorm2d-45         [128, 16, 255, 63]              32\n",
      "          decoder-46         [128, 16, 255, 63]               0\n",
      "             ReLU-47         [128, 16, 255, 63]               0\n",
      "  ConvTranspose2d-48         [128, 1, 511, 127]             801\n",
      "      BatchNorm2d-49         [128, 1, 511, 127]               2\n",
      "          decoder-50         [128, 1, 511, 127]               0\n",
      "          Sigmoid-51         [128, 1, 511, 127]               0\n",
      "================================================================\n",
      "Total params: 9,823,315\n",
      "Trainable params: 9,823,315\n",
      "Non-trainable params: 0\n",
      "----------------------------------------------------------------\n",
      "Input size (MB): 31.69\n",
      "Forward/backward pass size (MB): 4136.82\n",
      "Params size (MB): 37.47\n",
      "Estimated Total Size (MB): 4205.98\n",
      "----------------------------------------------------------------\n"
     ]
    }
   ],
   "source": [
    "summary(model, input_size = (1, 511, 127), batch_size = 128)"
   ]
  },
  {
   "cell_type": "code",
   "execution_count": null,
   "metadata": {},
   "outputs": [],
   "source": []
  }
 ],
 "metadata": {
  "kernelspec": {
   "display_name": "myvenv",
   "language": "python",
   "name": "python3"
  },
  "language_info": {
   "codemirror_mode": {
    "name": "ipython",
    "version": 3
   },
   "file_extension": ".py",
   "mimetype": "text/x-python",
   "name": "python",
   "nbconvert_exporter": "python",
   "pygments_lexer": "ipython3",
   "version": "3.9.13"
  },
  "orig_nbformat": 4
 },
 "nbformat": 4,
 "nbformat_minor": 2
}
